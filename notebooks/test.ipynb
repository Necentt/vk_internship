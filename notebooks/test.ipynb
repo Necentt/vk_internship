{
 "cells": [
  {
   "cell_type": "code",
   "execution_count": 4,
   "metadata": {
    "collapsed": true,
    "pycharm": {
     "name": "#%%\n"
    }
   },
   "outputs": [],
   "source": [
    "import pandas as pd\n",
    "from sklearn.preprocessing import MinMaxScaler"
   ]
  },
  {
   "cell_type": "code",
   "execution_count": 6,
   "outputs": [],
   "source": [
    "df = pd.read_csv('../data/sol.csv')\n",
    "df['pred_y'] = MinMaxScaler().fit_transform(df[['pred_y']])"
   ],
   "metadata": {
    "collapsed": false,
    "pycharm": {
     "name": "#%%\n"
    }
   }
  },
  {
   "cell_type": "code",
   "execution_count": 7,
   "outputs": [
    {
     "data": {
      "text/plain": "        Unnamed: 0       true_y       pred_y\ncount  1529.000000  1529.000000  1529.000000\nmean    764.000000     0.022237     0.452776\nstd     441.528595     0.147501     0.161482\nmin       0.000000     0.000000     0.000000\n25%     382.000000     0.000000     0.353590\n50%     764.000000     0.000000     0.446477\n75%    1146.000000     0.000000     0.561127\nmax    1528.000000     1.000000     1.000000",
      "text/html": "<div>\n<style scoped>\n    .dataframe tbody tr th:only-of-type {\n        vertical-align: middle;\n    }\n\n    .dataframe tbody tr th {\n        vertical-align: top;\n    }\n\n    .dataframe thead th {\n        text-align: right;\n    }\n</style>\n<table border=\"1\" class=\"dataframe\">\n  <thead>\n    <tr style=\"text-align: right;\">\n      <th></th>\n      <th>Unnamed: 0</th>\n      <th>true_y</th>\n      <th>pred_y</th>\n    </tr>\n  </thead>\n  <tbody>\n    <tr>\n      <th>count</th>\n      <td>1529.000000</td>\n      <td>1529.000000</td>\n      <td>1529.000000</td>\n    </tr>\n    <tr>\n      <th>mean</th>\n      <td>764.000000</td>\n      <td>0.022237</td>\n      <td>0.452776</td>\n    </tr>\n    <tr>\n      <th>std</th>\n      <td>441.528595</td>\n      <td>0.147501</td>\n      <td>0.161482</td>\n    </tr>\n    <tr>\n      <th>min</th>\n      <td>0.000000</td>\n      <td>0.000000</td>\n      <td>0.000000</td>\n    </tr>\n    <tr>\n      <th>25%</th>\n      <td>382.000000</td>\n      <td>0.000000</td>\n      <td>0.353590</td>\n    </tr>\n    <tr>\n      <th>50%</th>\n      <td>764.000000</td>\n      <td>0.000000</td>\n      <td>0.446477</td>\n    </tr>\n    <tr>\n      <th>75%</th>\n      <td>1146.000000</td>\n      <td>0.000000</td>\n      <td>0.561127</td>\n    </tr>\n    <tr>\n      <th>max</th>\n      <td>1528.000000</td>\n      <td>1.000000</td>\n      <td>1.000000</td>\n    </tr>\n  </tbody>\n</table>\n</div>"
     },
     "execution_count": 7,
     "metadata": {},
     "output_type": "execute_result"
    }
   ],
   "source": [
    "df.describe()"
   ],
   "metadata": {
    "collapsed": false,
    "pycharm": {
     "name": "#%%\n"
    }
   }
  },
  {
   "cell_type": "code",
   "execution_count": 8,
   "outputs": [
    {
     "data": {
      "text/plain": "      Unnamed: 0  true_y    pred_y\n0              0       0  0.383135\n1              1       0  0.314396\n2              2       0  0.407053\n3              3       0  0.395989\n4              4       0  0.365368\n...          ...     ...       ...\n1524        1524       0  0.730835\n1525        1525       0  0.765970\n1526        1526       1  0.762107\n1527        1527       1  0.725381\n1528        1528       0  0.611895\n\n[1529 rows x 3 columns]",
      "text/html": "<div>\n<style scoped>\n    .dataframe tbody tr th:only-of-type {\n        vertical-align: middle;\n    }\n\n    .dataframe tbody tr th {\n        vertical-align: top;\n    }\n\n    .dataframe thead th {\n        text-align: right;\n    }\n</style>\n<table border=\"1\" class=\"dataframe\">\n  <thead>\n    <tr style=\"text-align: right;\">\n      <th></th>\n      <th>Unnamed: 0</th>\n      <th>true_y</th>\n      <th>pred_y</th>\n    </tr>\n  </thead>\n  <tbody>\n    <tr>\n      <th>0</th>\n      <td>0</td>\n      <td>0</td>\n      <td>0.383135</td>\n    </tr>\n    <tr>\n      <th>1</th>\n      <td>1</td>\n      <td>0</td>\n      <td>0.314396</td>\n    </tr>\n    <tr>\n      <th>2</th>\n      <td>2</td>\n      <td>0</td>\n      <td>0.407053</td>\n    </tr>\n    <tr>\n      <th>3</th>\n      <td>3</td>\n      <td>0</td>\n      <td>0.395989</td>\n    </tr>\n    <tr>\n      <th>4</th>\n      <td>4</td>\n      <td>0</td>\n      <td>0.365368</td>\n    </tr>\n    <tr>\n      <th>...</th>\n      <td>...</td>\n      <td>...</td>\n      <td>...</td>\n    </tr>\n    <tr>\n      <th>1524</th>\n      <td>1524</td>\n      <td>0</td>\n      <td>0.730835</td>\n    </tr>\n    <tr>\n      <th>1525</th>\n      <td>1525</td>\n      <td>0</td>\n      <td>0.765970</td>\n    </tr>\n    <tr>\n      <th>1526</th>\n      <td>1526</td>\n      <td>1</td>\n      <td>0.762107</td>\n    </tr>\n    <tr>\n      <th>1527</th>\n      <td>1527</td>\n      <td>1</td>\n      <td>0.725381</td>\n    </tr>\n    <tr>\n      <th>1528</th>\n      <td>1528</td>\n      <td>0</td>\n      <td>0.611895</td>\n    </tr>\n  </tbody>\n</table>\n<p>1529 rows × 3 columns</p>\n</div>"
     },
     "execution_count": 8,
     "metadata": {},
     "output_type": "execute_result"
    }
   ],
   "source": [
    "df"
   ],
   "metadata": {
    "collapsed": false,
    "pycharm": {
     "name": "#%%\n"
    }
   }
  },
  {
   "cell_type": "code",
   "execution_count": 9,
   "outputs": [
    {
     "data": {
      "text/plain": "      Unnamed: 0  true_y    pred_y\n1301        1301       1  0.866982\n280          280       1  0.812893\n1526        1526       1  0.762107\n193          193       1  0.727877\n181          181       1  0.725747\n...          ...     ...       ...\n1342        1342       0  0.015606\n1344        1344       0  0.011330\n1332        1332       0  0.010908\n1339        1339       0  0.007817\n1333        1333       0  0.000000\n\n[1529 rows x 3 columns]",
      "text/html": "<div>\n<style scoped>\n    .dataframe tbody tr th:only-of-type {\n        vertical-align: middle;\n    }\n\n    .dataframe tbody tr th {\n        vertical-align: top;\n    }\n\n    .dataframe thead th {\n        text-align: right;\n    }\n</style>\n<table border=\"1\" class=\"dataframe\">\n  <thead>\n    <tr style=\"text-align: right;\">\n      <th></th>\n      <th>Unnamed: 0</th>\n      <th>true_y</th>\n      <th>pred_y</th>\n    </tr>\n  </thead>\n  <tbody>\n    <tr>\n      <th>1301</th>\n      <td>1301</td>\n      <td>1</td>\n      <td>0.866982</td>\n    </tr>\n    <tr>\n      <th>280</th>\n      <td>280</td>\n      <td>1</td>\n      <td>0.812893</td>\n    </tr>\n    <tr>\n      <th>1526</th>\n      <td>1526</td>\n      <td>1</td>\n      <td>0.762107</td>\n    </tr>\n    <tr>\n      <th>193</th>\n      <td>193</td>\n      <td>1</td>\n      <td>0.727877</td>\n    </tr>\n    <tr>\n      <th>181</th>\n      <td>181</td>\n      <td>1</td>\n      <td>0.725747</td>\n    </tr>\n    <tr>\n      <th>...</th>\n      <td>...</td>\n      <td>...</td>\n      <td>...</td>\n    </tr>\n    <tr>\n      <th>1342</th>\n      <td>1342</td>\n      <td>0</td>\n      <td>0.015606</td>\n    </tr>\n    <tr>\n      <th>1344</th>\n      <td>1344</td>\n      <td>0</td>\n      <td>0.011330</td>\n    </tr>\n    <tr>\n      <th>1332</th>\n      <td>1332</td>\n      <td>0</td>\n      <td>0.010908</td>\n    </tr>\n    <tr>\n      <th>1339</th>\n      <td>1339</td>\n      <td>0</td>\n      <td>0.007817</td>\n    </tr>\n    <tr>\n      <th>1333</th>\n      <td>1333</td>\n      <td>0</td>\n      <td>0.000000</td>\n    </tr>\n  </tbody>\n</table>\n<p>1529 rows × 3 columns</p>\n</div>"
     },
     "execution_count": 9,
     "metadata": {},
     "output_type": "execute_result"
    }
   ],
   "source": [
    "df.sort_values(by=['true_y', 'pred_y'], ascending=False)"
   ],
   "metadata": {
    "collapsed": false,
    "pycharm": {
     "name": "#%%\n"
    }
   }
  },
  {
   "cell_type": "code",
   "execution_count": 10,
   "outputs": [
    {
     "data": {
      "text/plain": "0.47404944938070204"
     },
     "execution_count": 10,
     "metadata": {},
     "output_type": "execute_result"
    }
   ],
   "source": [
    "from sklearn.metrics import ndcg_score\n",
    "import numpy as np\n",
    "ndcg_score([np.asarray(df['true_y'])], [np.asarray(df['pred_y'])])"
   ],
   "metadata": {
    "collapsed": false,
    "pycharm": {
     "name": "#%%\n"
    }
   }
  },
  {
   "cell_type": "markdown",
   "source": [
    "Попытка RankNet, кажется, я в чем-то ошибся. Скорее всего дело в архитектуре сети"
   ],
   "metadata": {
    "collapsed": false,
    "pycharm": {
     "name": "#%% md\n"
    }
   }
  },
  {
   "cell_type": "code",
   "execution_count": null,
   "outputs": [],
   "source": [],
   "metadata": {
    "collapsed": false,
    "pycharm": {
     "name": "#%%\n"
    }
   }
  }
 ],
 "metadata": {
  "kernelspec": {
   "display_name": "Python 3",
   "language": "python",
   "name": "python3"
  },
  "language_info": {
   "codemirror_mode": {
    "name": "ipython",
    "version": 2
   },
   "file_extension": ".py",
   "mimetype": "text/x-python",
   "name": "python",
   "nbconvert_exporter": "python",
   "pygments_lexer": "ipython2",
   "version": "2.7.6"
  }
 },
 "nbformat": 4,
 "nbformat_minor": 0
}